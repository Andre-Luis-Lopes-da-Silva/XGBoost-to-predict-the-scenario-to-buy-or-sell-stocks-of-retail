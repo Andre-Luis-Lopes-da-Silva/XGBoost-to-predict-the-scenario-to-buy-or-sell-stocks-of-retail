{
 "cells": [
  {
   "cell_type": "code",
   "execution_count": 49,
   "id": "cf17aea3",
   "metadata": {},
   "outputs": [],
   "source": [
    "# Import modules\n",
    "import xgboost as xgb\n",
    "import pandas as pd\n",
    "import numpy as np\n",
    "import matplotlib.pyplot as plt\n",
    "import seaborn as sns"
   ]
  },
  {
   "cell_type": "code",
   "execution_count": 50,
   "id": "e056cf96",
   "metadata": {},
   "outputs": [],
   "source": [
    "# Open the file containing the dataset.\n",
    "datei = pd.read_csv(\"/home/andre/Desktop/dataset.csv\")"
   ]
  },
  {
   "cell_type": "code",
   "execution_count": 51,
   "id": "d33b95b5",
   "metadata": {},
   "outputs": [
    {
     "data": {
      "text/html": [
       "<div>\n",
       "<style scoped>\n",
       "    .dataframe tbody tr th:only-of-type {\n",
       "        vertical-align: middle;\n",
       "    }\n",
       "\n",
       "    .dataframe tbody tr th {\n",
       "        vertical-align: top;\n",
       "    }\n",
       "\n",
       "    .dataframe thead th {\n",
       "        text-align: right;\n",
       "    }\n",
       "</style>\n",
       "<table border=\"1\" class=\"dataframe\">\n",
       "  <thead>\n",
       "    <tr style=\"text-align: right;\">\n",
       "      <th></th>\n",
       "      <th>date</th>\n",
       "      <th>trend</th>\n",
       "      <th>ipca</th>\n",
       "      <th>selic</th>\n",
       "      <th>IBC-Br</th>\n",
       "      <th>icom</th>\n",
       "      <th>expectativa</th>\n",
       "      <th>dolar</th>\n",
       "      <th>icon</th>\n",
       "      <th>ibov</th>\n",
       "      <th>open</th>\n",
       "      <th>high</th>\n",
       "      <th>low</th>\n",
       "      <th>close</th>\n",
       "      <th>adjclose</th>\n",
       "      <th>volume</th>\n",
       "      <th>ticker</th>\n",
       "    </tr>\n",
       "  </thead>\n",
       "  <tbody>\n",
       "    <tr>\n",
       "      <th>0</th>\n",
       "      <td>2011-01-01</td>\n",
       "      <td>Uptrend</td>\n",
       "      <td>0.83</td>\n",
       "      <td>10.943548</td>\n",
       "      <td>132,66</td>\n",
       "      <td>106,1</td>\n",
       "      <td>163,71</td>\n",
       "      <td>1,67411428571429</td>\n",
       "      <td>1525.61</td>\n",
       "      <td>66575</td>\n",
       "      <td>9.264964</td>\n",
       "      <td>9.492898</td>\n",
       "      <td>7.756332</td>\n",
       "      <td>7.936712</td>\n",
       "      <td>6.187788</td>\n",
       "      <td>149128856</td>\n",
       "      <td>LREN3.SA</td>\n",
       "    </tr>\n",
       "    <tr>\n",
       "      <th>1</th>\n",
       "      <td>2011-02-01</td>\n",
       "      <td>Uptrend</td>\n",
       "      <td>0.80</td>\n",
       "      <td>11.250000</td>\n",
       "      <td>136,18</td>\n",
       "      <td>111,4</td>\n",
       "      <td>166,17</td>\n",
       "      <td>1,66719</td>\n",
       "      <td>1533.05</td>\n",
       "      <td>67383</td>\n",
       "      <td>8.033461</td>\n",
       "      <td>8.736943</td>\n",
       "      <td>7.756332</td>\n",
       "      <td>8.363064</td>\n",
       "      <td>6.520191</td>\n",
       "      <td>120569757</td>\n",
       "      <td>LREN3.SA</td>\n",
       "    </tr>\n",
       "    <tr>\n",
       "      <th>2</th>\n",
       "      <td>2011-03-01</td>\n",
       "      <td>Uptrend</td>\n",
       "      <td>0.79</td>\n",
       "      <td>11.717742</td>\n",
       "      <td>144,93</td>\n",
       "      <td>105,3</td>\n",
       "      <td>162,43</td>\n",
       "      <td>1,6583</td>\n",
       "      <td>1629.59</td>\n",
       "      <td>68587</td>\n",
       "      <td>8.364704</td>\n",
       "      <td>9.059987</td>\n",
       "      <td>8.140049</td>\n",
       "      <td>8.672990</td>\n",
       "      <td>6.761821</td>\n",
       "      <td>106565665</td>\n",
       "      <td>LREN3.SA</td>\n",
       "    </tr>\n",
       "    <tr>\n",
       "      <th>3</th>\n",
       "      <td>2011-04-01</td>\n",
       "      <td>Uptrend</td>\n",
       "      <td>0.77</td>\n",
       "      <td>11.800000</td>\n",
       "      <td>139,89</td>\n",
       "      <td>108,5</td>\n",
       "      <td>163,01</td>\n",
       "      <td>1,58564736842105</td>\n",
       "      <td>1672.59</td>\n",
       "      <td>66133</td>\n",
       "      <td>8.672990</td>\n",
       "      <td>9.660159</td>\n",
       "      <td>8.625435</td>\n",
       "      <td>9.519135</td>\n",
       "      <td>7.440604</td>\n",
       "      <td>87893355</td>\n",
       "      <td>LREN3.SA</td>\n",
       "    </tr>\n",
       "    <tr>\n",
       "      <th>4</th>\n",
       "      <td>2011-05-01</td>\n",
       "      <td>Uptrend</td>\n",
       "      <td>0.47</td>\n",
       "      <td>12.000000</td>\n",
       "      <td>143,23</td>\n",
       "      <td>106,4</td>\n",
       "      <td>155,6</td>\n",
       "      <td>1,61269090909091</td>\n",
       "      <td>1636.41</td>\n",
       "      <td>64620</td>\n",
       "      <td>9.512576</td>\n",
       "      <td>9.819222</td>\n",
       "      <td>8.896005</td>\n",
       "      <td>9.814302</td>\n",
       "      <td>7.843419</td>\n",
       "      <td>108838470</td>\n",
       "      <td>LREN3.SA</td>\n",
       "    </tr>\n",
       "  </tbody>\n",
       "</table>\n",
       "</div>"
      ],
      "text/plain": [
       "         date    trend  ipca      selic  IBC-Br   icom expectativa  \\\n",
       "0  2011-01-01  Uptrend  0.83  10.943548  132,66  106,1      163,71   \n",
       "1  2011-02-01  Uptrend  0.80  11.250000  136,18  111,4      166,17   \n",
       "2  2011-03-01  Uptrend  0.79  11.717742  144,93  105,3      162,43   \n",
       "3  2011-04-01  Uptrend  0.77  11.800000  139,89  108,5      163,01   \n",
       "4  2011-05-01  Uptrend  0.47  12.000000  143,23  106,4       155,6   \n",
       "\n",
       "              dolar     icon   ibov      open      high       low     close  \\\n",
       "0  1,67411428571429  1525.61  66575  9.264964  9.492898  7.756332  7.936712   \n",
       "1           1,66719  1533.05  67383  8.033461  8.736943  7.756332  8.363064   \n",
       "2            1,6583  1629.59  68587  8.364704  9.059987  8.140049  8.672990   \n",
       "3  1,58564736842105  1672.59  66133  8.672990  9.660159  8.625435  9.519135   \n",
       "4  1,61269090909091  1636.41  64620  9.512576  9.819222  8.896005  9.814302   \n",
       "\n",
       "   adjclose     volume    ticker  \n",
       "0  6.187788  149128856  LREN3.SA  \n",
       "1  6.520191  120569757  LREN3.SA  \n",
       "2  6.761821  106565665  LREN3.SA  \n",
       "3  7.440604   87893355  LREN3.SA  \n",
       "4  7.843419  108838470  LREN3.SA  "
      ]
     },
     "execution_count": 51,
     "metadata": {},
     "output_type": "execute_result"
    }
   ],
   "source": [
    "# Show the first five registers from dataframe.\n",
    "datei.head()"
   ]
  },
  {
   "cell_type": "code",
   "execution_count": 52,
   "id": "d0296130",
   "metadata": {},
   "outputs": [],
   "source": [
    "# Replace the periods by comma. \n",
    "datei['IBC-Br'] = [float(str(i).replace(\",\", \".\")) for i in datei['IBC-Br']]\n",
    "datei['icom'] = [float(str(i).replace(\",\", \".\")) for i in datei['icom']]\n",
    "datei['dolar'] = datei['dolar'].str.replace(',','.')\n",
    "datei['expectativa'] = datei['expectativa'].str.replace(',','.')"
   ]
  },
  {
   "cell_type": "code",
   "execution_count": 53,
   "id": "90737186",
   "metadata": {},
   "outputs": [],
   "source": [
    "# converting object type column to float.\n",
    "datei['dolar'] = datei['dolar'].astype(float) \n",
    "datei['expectativa'] = datei['expectativa'].astype(float) "
   ]
  },
  {
   "cell_type": "code",
   "execution_count": 54,
   "id": "cf885fa4",
   "metadata": {},
   "outputs": [],
   "source": [
    "# Remove the columns do not needed.\n",
    "neu_datei = datei.drop(columns=['date', 'open', 'high', 'low', 'close', 'adjclose', 'volume', 'ticker'], axis = 1)"
   ]
  },
  {
   "cell_type": "code",
   "execution_count": 55,
   "id": "28ad11e6",
   "metadata": {},
   "outputs": [
    {
     "data": {
      "text/plain": [
       "Uptrend      85\n",
       "Downtrend    47\n",
       "Name: trend, dtype: int64"
      ]
     },
     "execution_count": 55,
     "metadata": {},
     "output_type": "execute_result"
    }
   ],
   "source": [
    "# Return a Series containing counts of unique values\n",
    "datei['trend'].value_counts() "
   ]
  },
  {
   "cell_type": "code",
   "execution_count": 56,
   "id": "6dfe79e4",
   "metadata": {},
   "outputs": [
    {
     "data": {
      "image/png": "[encoded data removed]",
      "text/plain": [
       "<Figure size 800x400 with 1 Axes>"
      ]
     },
     "metadata": {},
     "output_type": "display_data"
    }
   ],
   "source": [
    "# Predictor class parsing (class balance) \n",
    "# yellowbrick. Yellowbrick is a suite of visual analysis and diagnostic tools designed to facilitate machine learning with scikit-learn.\n",
    "from yellowbrick.target import ClassBalance\n",
    "\n",
    "# plt.figure() Create a new figure, or activate an existing figure.\n",
    "# figsize() Width, height in inches.\n",
    "plt.figure(figsize=(8, 4))\n",
    "\n",
    "# Instantiate the visualizer\n",
    "Sehen = ClassBalance(labels=[\"Downtrend\",\"Uptrend\"])\n",
    "\n",
    "# Fit the data to the visualizer\n",
    "Sehen.fit(neu_datei['trend']) # trend is predictor class. The trend of stock.\n",
    "Sehen.show(); # Finalize and render the figure"
   ]
  },
  {
   "cell_type": "code",
   "execution_count": 119,
   "id": "c7c9c7bd",
   "metadata": {},
   "outputs": [
    {
     "name": "stdout",
     "output_type": "stream",
     "text": [
      "The selected model was : Model 3\n"
     ]
    }
   ],
   "source": [
    "# combobox - Selecting the models\n",
    "from tkinter import *\n",
    "from tkinter import ttk\n",
    "\n",
    "ve='' # it is necessary to define the variable outside the function to retrieve it outside the function\n",
    "\n",
    "def selecionar_arquivo():\n",
    "    global ve  # Turn local variable into global variable\n",
    "    ve=combobox_models.get() # get the variable\n",
    "    print(\"The selected model was : \"+ve)\n",
    "\n",
    "app=Tk()  # Instantiating top level\n",
    "app.title(\"Select the model:\")\n",
    "\n",
    "app.geometry(\"500x300\")   # Setting the geometry i.e Dimensions\n",
    "\n",
    "list_carteiras=[\"Model 1\", \"Model 2\", \"Model 3\"]\n",
    "\n",
    "lb_carteiras=Label(app,text=\"Models\", font=(\"Arial\", 25))\n",
    "lb_carteiras.pack()\n",
    "\n",
    "combobox_models=ttk.Combobox(app, values=list_carteiras)\n",
    "combobox_models.set(\"Model 1\")   # otherwise the list starts empty\n",
    "combobox_models.pack()\n",
    "\n",
    "btn_carteiras=Button(app,text=\"selected model\",command=selecionar_arquivo)\n",
    "btn_carteiras.pack()\n",
    "\n",
    "# Mainloop which will cause this toplevel to run infinitely\n",
    "app.mainloop()"
   ]
  },
  {
   "cell_type": "markdown",
   "id": "8e04267d",
   "metadata": {},
   "source": [
    "## Evaluated Models\n",
    "\n",
    "### Model 1 = All the indicators (ipca, expectativa, icom, Selic, IBC-Br, dolar, icon and ibov)\n",
    "### Model 2 = Five indicators (Selic, IBC-Br, dolar, icon and ibov)\n",
    "### Model 3 = Three indicators (dolar, icon and ibov)"
   ]
  },
  {
   "cell_type": "code",
   "execution_count": 92,
   "id": "6732fd5b",
   "metadata": {},
   "outputs": [],
   "source": [
    "# conditions for choosing the models\n",
    "if ve == 'Model 1': \n",
    "    # Select the macroeconomic indicators.\n",
    "    previsores = neu_datei.drop(['trend'], axis = 1)\n",
    "    X = previsores.iloc[:,0:132].values\n",
    "    previsores\n",
    "elif ve == 'Model 2': \n",
    "    # Select the macroeconomic indicators.\n",
    "    previsores = neu_datei.drop(['trend', 'ipca', 'expectativa', 'icom'], axis = 1)\n",
    "    X = previsores.iloc[:,0:132].values\n",
    "    previsores\n",
    "elif ve == 'Model 3': \n",
    "    # Select the macroeconomic indicators.\n",
    "    previsores = neu_datei.drop(['trend', 'ipca', 'expectativa', 'icom', 'IBC-Br', 'selic'], axis = 1)\n",
    "    X = previsores.iloc[:,0:132].values\n",
    "    previsores"
   ]
  },
  {
   "cell_type": "code",
   "execution_count": 93,
   "id": "44e2c7de",
   "metadata": {
    "scrolled": true
   },
   "outputs": [
    {
     "data": {
      "text/plain": [
       "5"
      ]
     },
     "execution_count": 93,
     "metadata": {},
     "output_type": "execute_result"
    }
   ],
   "source": [
    "# Getting the number of columns in a list\n",
    "Säulen = list(previsores.columns)\n",
    "len(Säulen) # Getting the number of the elements in the list"
   ]
  },
  {
   "cell_type": "code",
   "execution_count": 94,
   "id": "1d4784f4",
   "metadata": {},
   "outputs": [
    {
     "data": {
      "text/plain": [
       "['selic', 'IBC-Br', 'dolar', 'icon', 'ibov']"
      ]
     },
     "execution_count": 94,
     "metadata": {},
     "output_type": "execute_result"
    }
   ],
   "source": [
    "Säulen"
   ]
  },
  {
   "cell_type": "code",
   "execution_count": 95,
   "id": "b980df9d",
   "metadata": {},
   "outputs": [
    {
     "data": {
      "text/plain": [
       "0        Uptrend\n",
       "1        Uptrend\n",
       "2        Uptrend\n",
       "3        Uptrend\n",
       "4        Uptrend\n",
       "         ...    \n",
       "127    Downtrend\n",
       "128    Downtrend\n",
       "129    Downtrend\n",
       "130    Downtrend\n",
       "131    Downtrend\n",
       "Name: trend, Length: 132, dtype: object"
      ]
     },
     "execution_count": 95,
     "metadata": {},
     "output_type": "execute_result"
    }
   ],
   "source": [
    "# Visualizing the elements within the column 'trend'\n",
    "y = datei['trend']\n",
    "y"
   ]
  },
  {
   "cell_type": "code",
   "execution_count": 96,
   "id": "89b68042",
   "metadata": {},
   "outputs": [
    {
     "data": {
      "text/plain": [
       "132"
      ]
     },
     "execution_count": 96,
     "metadata": {},
     "output_type": "execute_result"
    }
   ],
   "source": [
    "len(y) # Getting the number of the elements for 'trend'"
   ]
  },
  {
   "cell_type": "code",
   "execution_count": 97,
   "id": "12b34e25",
   "metadata": {},
   "outputs": [
    {
     "data": {
      "text/plain": [
       "(132,)"
      ]
     },
     "execution_count": 97,
     "metadata": {},
     "output_type": "execute_result"
    }
   ],
   "source": [
    "# Return a tuple representing the dimensionality of the DataFrame.\n",
    "y.shape "
   ]
  },
  {
   "cell_type": "code",
   "execution_count": 98,
   "id": "9404a115",
   "metadata": {},
   "outputs": [
    {
     "data": {
      "text/plain": [
       "(132, 5)"
      ]
     },
     "execution_count": 98,
     "metadata": {},
     "output_type": "execute_result"
    }
   ],
   "source": [
    "# Return a tuple representing the dimensionality of the DataFrame.\n",
    "X.shape"
   ]
  },
  {
   "cell_type": "code",
   "execution_count": 99,
   "id": "7d196be5",
   "metadata": {},
   "outputs": [
    {
     "data": {
      "text/plain": [
       "0      1\n",
       "1      1\n",
       "2      1\n",
       "3      1\n",
       "4      1\n",
       "      ..\n",
       "127    0\n",
       "128    0\n",
       "129    0\n",
       "130    0\n",
       "131    0\n",
       "Name: trend, Length: 132, dtype: int64"
      ]
     },
     "execution_count": 99,
     "metadata": {},
     "output_type": "execute_result"
    }
   ],
   "source": [
    "# Transforming 'Uptrend' to 1 and 'Downtrend' to 0\n",
    "y = datei['trend'].apply(lambda x: 1 if x == 'Uptrend' else 0)\n",
    "y"
   ]
  },
  {
   "cell_type": "code",
   "execution_count": 100,
   "id": "a22cc1be",
   "metadata": {},
   "outputs": [
    {
     "data": {
      "image/png": "[encoded data removed]",
      "text/plain": [
       "<Figure size 1000x500 with 1 Axes>"
      ]
     },
     "metadata": {},
     "output_type": "display_data"
    }
   ],
   "source": [
    "# plot instances as lines along vertical axes to detect classes or clusters\n",
    "from yellowbrick.features import ParallelCoordinates\n",
    "\n",
    "plt.figure(figsize=(10, 5))\n",
    "\n",
    "Features = Säulen # Gives the list containing the names of columns\n",
    "Classes = [\"Uptrend\", \"Downtrend\"] # Target variable\n",
    "\n",
    "# Instantiate the visualizer\n",
    "vzr = ParallelCoordinates(classes=Classes, features=Features, sample=0.05, shuffle=True)\n",
    "vzr.fit_transform(previsores, neu_datei['trend'])\n",
    "vzr.poof();  # Display"
   ]
  },
  {
   "cell_type": "code",
   "execution_count": 101,
   "id": "f1bba3e2",
   "metadata": {},
   "outputs": [
    {
     "name": "stdout",
     "output_type": "stream",
     "text": [
      "Train the model with 99 records\n",
      "Train with 33 records\n"
     ]
    }
   ],
   "source": [
    "# Split arrays or matrices into random train and test subsets.\n",
    "from sklearn.model_selection import train_test_split\n",
    "X_train, X_test, y_train, y_test = train_test_split(X, y, test_size = 0.25)\n",
    "\n",
    "X_train.shape, y_train\n",
    "print( f'Train the model with {X_train.shape[0]} records')\n",
    "print(f'Train with {X_test.shape[0]} records')"
   ]
  },
  {
   "cell_type": "code",
   "execution_count": 102,
   "id": "ea3ade25",
   "metadata": {},
   "outputs": [
    {
     "data": {
      "text/plain": [
       "XGBClassifier(base_score=None, booster=None, callbacks=None,\n",
       "              colsample_bylevel=None, colsample_bynode=None,\n",
       "              colsample_bytree=0.8, early_stopping_rounds=None,\n",
       "              enable_categorical=False, eval_metric=None, feature_types=None,\n",
       "              gamma=0, gpu_id=None, grow_policy=None, importance_type=None,\n",
       "              interaction_constraints=None, learning_rate=0.1, max_bin=None,\n",
       "              max_cat_threshold=None, max_cat_to_onehot=None,\n",
       "              max_delta_step=None, max_depth=5, max_leaves=None,\n",
       "              min_child_weight=1, missing=nan, monotone_constraints=None,\n",
       "              n_estimators=500, n_jobs=None, num_parallel_tree=None,\n",
       "              predictor=None, random_state=None, ...)"
      ]
     },
     "execution_count": 102,
     "metadata": {},
     "output_type": "execute_result"
    }
   ],
   "source": [
    "# Implementation of the scikit-learn API for XGBoost classification\n",
    "from xgboost import XGBClassifier\n",
    "\n",
    "# Assigning the model\n",
    "Model_XGB = xgb.XGBClassifier(\n",
    "# Number of trees in the algorithm\n",
    "n_estimators=500,\n",
    "# Set to control the weighting of new trees added to the model\n",
    "learning_rate=0.1,\n",
    "# Maximum depth of a tree\n",
    "# XGBoost consumes a lot of memory, so the bigger it is, the more memory it will need\n",
    "max_depth=5,\n",
    "# Minimum sum of instance weight\n",
    "min_child_weight=1,\n",
    "# Minimum loss mitigation needed to make an additional partition at a leaf node in the tree.\n",
    "# The greater the 'gamma', the more conservative the algorithm.\n",
    "gamma=0,\n",
    "# Subsample ratio of training instances.\n",
    "subsample=0.8,\n",
    "# Denotes the fraction of columns to be randomly sampled for each tree.\n",
    "colsample_bytree=0.8,\n",
    ")\n",
    " \n",
    "Model_XGB.fit(X_train, y_train) # Algorithm training"
   ]
  },
  {
   "cell_type": "code",
   "execution_count": 103,
   "id": "952a3ca5",
   "metadata": {},
   "outputs": [
    {
     "name": "stdout",
     "output_type": "stream",
     "text": [
      "Confusion matrix: \n",
      " [[13  2]\n",
      " [ 2 16]]\n"
     ]
    }
   ],
   "source": [
    "# Predict the XGBoost model\n",
    "Previsoes = Model_XGB.predict(X_test)\n",
    "\n",
    "# Estimating the confusion matrix \n",
    "from sklearn.metrics import confusion_matrix\n",
    "print('Confusion matrix: \\n', confusion_matrix(y_test, Previsoes ))"
   ]
  },
  {
   "cell_type": "code",
   "execution_count": 104,
   "id": "6b6831b1",
   "metadata": {},
   "outputs": [
    {
     "data": {
      "image/png": "[encoded data removed]",
      "text/plain": [
       "<Figure size 500x500 with 1 Axes>"
      ]
     },
     "metadata": {},
     "output_type": "display_data"
    }
   ],
   "source": [
    "# Visualize the confusion matrix.\n",
    "from yellowbrick.classifier import ConfusionMatrix\n",
    "\n",
    "plt.figure(figsize=(5, 5))\n",
    "# The ConfusionMatrix visualizer taxes a model\n",
    "Matriz_Confusao = ConfusionMatrix(Model_XGB, classes=[0, 1])\n",
    "# Algorithm training\n",
    "Matriz_Confusao.fit(X_train, y_train)\n",
    "# Calculate the score\n",
    "Matriz_Confusao.score(X_test, y_test)\n",
    "# Chart plot\n",
    "Matriz_Confusao.show();"
   ]
  },
  {
   "cell_type": "code",
   "execution_count": 105,
   "id": "f4d69018",
   "metadata": {},
   "outputs": [
    {
     "name": "stdout",
     "output_type": "stream",
     "text": [
      "Classification Report: \n",
      "               precision    recall  f1-score   support\n",
      "\n",
      "           0       0.87      0.87      0.87        15\n",
      "           1       0.89      0.89      0.89        18\n",
      "\n",
      "    accuracy                           0.88        33\n",
      "   macro avg       0.88      0.88      0.88        33\n",
      "weighted avg       0.88      0.88      0.88        33\n",
      "\n"
     ]
    }
   ],
   "source": [
    "# Build a text report showing the main classification metrics.\n",
    "from sklearn.metrics import classification_report\n",
    "print('Classification Report: \\n', classification_report(y_test, Previsoes))"
   ]
  },
  {
   "cell_type": "code",
   "execution_count": 106,
   "id": "cea66545",
   "metadata": {},
   "outputs": [
    {
     "data": {
      "image/png": "[encoded data removed]",
      "text/plain": [
       "<Figure size 1000x500 with 2 Axes>"
      ]
     },
     "metadata": {},
     "output_type": "display_data"
    }
   ],
   "source": [
    "# Build a text report showing the main classification metrics.\n",
    "from yellowbrick.classifier import ClassificationReport\n",
    "\n",
    "plt.figure( figsize=(10, 5) )\n",
    "\n",
    "# Classification report that shows the precision, recall, F1, and support scores for the model\n",
    "Class_Report = ClassificationReport(Model_XGB, classes\n",
    "=[0, 1], support=True)\n",
    "# Algorithm training\n",
    "Class_Report.fit(X_train, y_train)\n",
    "# Calculate the score\n",
    "Class_Report.score(X_test, y_test)\n",
    "# Chart plot\n",
    "Class_Report.show();"
   ]
  },
  {
   "cell_type": "code",
   "execution_count": 107,
   "id": "f2ae77b7",
   "metadata": {},
   "outputs": [
    {
     "data": {
      "image/png": "[encoded data removed]",
      "text/plain": [
       "<Figure size 1000x500 with 1 Axes>"
      ]
     },
     "metadata": {},
     "output_type": "display_data"
    }
   ],
   "source": [
    "# A ROCAUC (Receiver Operating Characteristic/Area Under the Curve) \n",
    "# plot allows the user to visualize the tradeoff between the classifier’s sensitivity\n",
    "# and specificity.\n",
    "from yellowbrick.classifier import ROCAUC\n",
    "\n",
    "plt.figure(figsize=(10, 5))\n",
    "\n",
    "Curva_ROC = ROCAUC(Model_XGB, classes=[0, 1])\n",
    "# Fit the training data to the visualizer\n",
    "Curva_ROC.fit(X_train, y_train)\n",
    "# Evaluate the model on the test data\n",
    "Curva_ROC.score(X_test, y_test)\n",
    "# Finalize and show the figure\n",
    "Curva_ROC.show();"
   ]
  },
  {
   "cell_type": "code",
   "execution_count": 108,
   "id": "a47900a7",
   "metadata": {},
   "outputs": [
    {
     "name": "stdout",
     "output_type": "stream",
     "text": [
      "Average Accuracy in Scores: 0.7836996336996338 \n"
     ]
    }
   ],
   "source": [
    "# Evaluate a score by cross-validation.\n",
    "from sklearn.model_selection import cross_val_score\n",
    "from sklearn.model_selection import RepeatedStratifiedKFold\n",
    "\n",
    "Modelo_XGB = XGBClassifier()\n",
    "\n",
    "# Repeated Stratified K-Fold cross validator.\n",
    "Validacao_Cruzada = RepeatedStratifiedKFold(\n",
    "# Splits number\n",
    "n_splits=10,\n",
    "# Number of repetitions\n",
    "n_repeats=3,\n",
    "# Random flag\n",
    "random_state=10 )\n",
    "# Algorithm training\n",
    "Resultado_Scores = cross_val_score(\n",
    "# Model\n",
    "Modelo_XGB,\n",
    "# Characteristics\n",
    "X,\n",
    "# Predictor\n",
    "y,\n",
    "# Metrics\n",
    "scoring='accuracy',\n",
    "# Validação cruzado\n",
    "cv=Validacao_Cruzada,\n",
    "# Number of parallel jobs [-1 means using all processors]\n",
    "n_jobs=-1 )\n",
    "\n",
    "print(f'Average Accuracy in Scores: { np.mean(Resultado_Scores) } ')"
   ]
  },
  {
   "cell_type": "code",
   "execution_count": 109,
   "id": "ddc63049",
   "metadata": {},
   "outputs": [],
   "source": [
    "#!pip install xgboost"
   ]
  },
  {
   "cell_type": "code",
   "execution_count": 110,
   "id": "01644f9d",
   "metadata": {},
   "outputs": [],
   "source": [
    "#!pip install yellowbrick"
   ]
  },
  {
   "cell_type": "code",
   "execution_count": 111,
   "id": "221a29fa",
   "metadata": {},
   "outputs": [
    {
     "name": "stdout",
     "output_type": "stream",
     "text": [
      "Accuracy .:  0.8787878787878788\n",
      "Precision :  0.8888888888888888\n",
      "Recall ...:  0.8888888888888888\n",
      "F1 Score .:  0.8777777777777778\n"
     ]
    }
   ],
   "source": [
    "# Show the metrics obtained by this model.\n",
    "from sklearn.metrics import precision_score, recall_score, f1_score, accuracy_score\n",
    "\n",
    "print(\"Accuracy .: \", accuracy_score(y_test, Previsoes))  # Accuracy classification score.\n",
    "print(\"Precision : \", precision_score(y_test, Previsoes))\n",
    "print(\"Recall ...: \", recall_score(y_test, Previsoes))\n",
    "print(\"F1 Score .: \", f1_score(y_test, Previsoes, average='macro'))"
   ]
  },
  {
   "cell_type": "markdown",
   "id": "37825554",
   "metadata": {},
   "source": [
    "## Salving the classifier"
   ]
  },
  {
   "cell_type": "code",
   "execution_count": 112,
   "id": "0df0d14b",
   "metadata": {},
   "outputs": [],
   "source": [
    "import pickle\n",
    "# The pickle module can transform a complex object into a byte stream \n",
    "# and it can transform the byte stream into an object with the same \n",
    "# internal structure."
   ]
  },
  {
   "cell_type": "code",
   "execution_count": 113,
   "id": "a1212bbb",
   "metadata": {},
   "outputs": [],
   "source": [
    "file_name = \"xgb_model.pkl\""
   ]
  },
  {
   "cell_type": "code",
   "execution_count": 114,
   "id": "186a8d1c",
   "metadata": {},
   "outputs": [],
   "source": [
    "# save\n",
    "pickle.dump(Model_XGB, open(file_name, \"wb\"))"
   ]
  },
  {
   "cell_type": "code",
   "execution_count": 115,
   "id": "d9146cb2",
   "metadata": {},
   "outputs": [],
   "source": [
    "# load\n",
    "xgb_model_loaded = pickle.load(open(file_name, \"rb\"))"
   ]
  },
  {
   "cell_type": "markdown",
   "id": "686a9532",
   "metadata": {},
   "source": [
    "## Testing the saved model"
   ]
  },
  {
   "cell_type": "code",
   "execution_count": 116,
   "id": "3f74aac4",
   "metadata": {},
   "outputs": [
    {
     "data": {
      "text/plain": [
       "0"
      ]
     },
     "execution_count": 116,
     "metadata": {},
     "output_type": "execute_result"
    }
   ],
   "source": [
    "# Test the saved model\n",
    "xgb_model_loaded.predict(X_test)[10] # Selecting the variables of (X_test)[10]"
   ]
  },
  {
   "cell_type": "code",
   "execution_count": 117,
   "id": "7a6f42fc",
   "metadata": {},
   "outputs": [
    {
     "data": {
      "text/plain": [
       "array([3.37903226e+00, 1.37440000e+02, 5.29044762e+00, 5.46302000e+03,\n",
       "       1.26216000e+05])"
      ]
     },
     "execution_count": 117,
     "metadata": {},
     "output_type": "execute_result"
    }
   ],
   "source": [
    "# Shows the selected variables \n",
    "(X_test)[10]"
   ]
  },
  {
   "cell_type": "code",
   "execution_count": 118,
   "id": "0645daf2",
   "metadata": {},
   "outputs": [
    {
     "data": {
      "text/plain": [
       "array([0.69839656, 0.30160347], dtype=float32)"
      ]
     },
     "execution_count": 118,
     "metadata": {},
     "output_type": "execute_result"
    }
   ],
   "source": [
    "# Shows the probability of each class\n",
    "xgb_model_loaded.predict_proba(X_test)[10]"
   ]
  },
  {
   "cell_type": "code",
   "execution_count": null,
   "id": "284a1413",
   "metadata": {},
   "outputs": [],
   "source": [
    "# show available classes\n",
    "xgb_model_loaded.classes_"
   ]
  },
  {
   "cell_type": "code",
   "execution_count": null,
   "id": "38c86183",
   "metadata": {},
   "outputs": [],
   "source": []
  }
 ],
 "metadata": {
  "kernelspec": {
   "display_name": "Python 3 (ipykernel)",
   "language": "python",
   "name": "python3"
  },
  "language_info": {
   "codemirror_mode": {
    "name": "ipython",
    "version": 3
   },
   "file_extension": ".py",
   "mimetype": "text/x-python",
   "name": "python",
   "nbconvert_exporter": "python",
   "pygments_lexer": "ipython3",
   "version": "3.9.13"
  }
 },
 "nbformat": 4,
 "nbformat_minor": 5
}
